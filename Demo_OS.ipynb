{
  "nbformat": 4,
  "nbformat_minor": 0,
  "metadata": {
    "colab": {
      "provenance": [],
      "authorship_tag": "ABX9TyPFRHKyaxd2I2xsOeKn7NxV",
      "include_colab_link": true
    },
    "kernelspec": {
      "name": "python3",
      "display_name": "Python 3"
    },
    "language_info": {
      "name": "python"
    },
    "widgets": {
      "application/vnd.jupyter.widget-state+json": {
        "b91bb1738be2434181af6a1db5721f2d": {
          "model_module": "@jupyter-widgets/controls",
          "model_name": "TextModel",
          "model_module_version": "1.5.0",
          "state": {
            "_dom_classes": [],
            "_model_module": "@jupyter-widgets/controls",
            "_model_module_version": "1.5.0",
            "_model_name": "TextModel",
            "_view_count": null,
            "_view_module": "@jupyter-widgets/controls",
            "_view_module_version": "1.5.0",
            "_view_name": "TextView",
            "continuous_update": true,
            "description": "Directory Path:",
            "description_tooltip": null,
            "disabled": false,
            "layout": "IPY_MODEL_4d99efe176dd476592a006f0cae42325",
            "placeholder": "​",
            "style": "IPY_MODEL_869acdb6ade14b9ebb09b97632096c56",
            "value": ""
          }
        },
        "4d99efe176dd476592a006f0cae42325": {
          "model_module": "@jupyter-widgets/base",
          "model_name": "LayoutModel",
          "model_module_version": "1.2.0",
          "state": {
            "_model_module": "@jupyter-widgets/base",
            "_model_module_version": "1.2.0",
            "_model_name": "LayoutModel",
            "_view_count": null,
            "_view_module": "@jupyter-widgets/base",
            "_view_module_version": "1.2.0",
            "_view_name": "LayoutView",
            "align_content": null,
            "align_items": null,
            "align_self": null,
            "border": null,
            "bottom": null,
            "display": null,
            "flex": null,
            "flex_flow": null,
            "grid_area": null,
            "grid_auto_columns": null,
            "grid_auto_flow": null,
            "grid_auto_rows": null,
            "grid_column": null,
            "grid_gap": null,
            "grid_row": null,
            "grid_template_areas": null,
            "grid_template_columns": null,
            "grid_template_rows": null,
            "height": null,
            "justify_content": null,
            "justify_items": null,
            "left": null,
            "margin": null,
            "max_height": null,
            "max_width": null,
            "min_height": null,
            "min_width": null,
            "object_fit": null,
            "object_position": null,
            "order": null,
            "overflow": null,
            "overflow_x": null,
            "overflow_y": null,
            "padding": null,
            "right": null,
            "top": null,
            "visibility": null,
            "width": null
          }
        },
        "869acdb6ade14b9ebb09b97632096c56": {
          "model_module": "@jupyter-widgets/controls",
          "model_name": "DescriptionStyleModel",
          "model_module_version": "1.5.0",
          "state": {
            "_model_module": "@jupyter-widgets/controls",
            "_model_module_version": "1.5.0",
            "_model_name": "DescriptionStyleModel",
            "_view_count": null,
            "_view_module": "@jupyter-widgets/base",
            "_view_module_version": "1.2.0",
            "_view_name": "StyleView",
            "description_width": ""
          }
        },
        "5f4fb16d311a49168d10ec9276492a34": {
          "model_module": "@jupyter-widgets/controls",
          "model_name": "ButtonModel",
          "model_module_version": "1.5.0",
          "state": {
            "_dom_classes": [],
            "_model_module": "@jupyter-widgets/controls",
            "_model_module_version": "1.5.0",
            "_model_name": "ButtonModel",
            "_view_count": null,
            "_view_module": "@jupyter-widgets/controls",
            "_view_module_version": "1.5.0",
            "_view_name": "ButtonView",
            "button_style": "",
            "description": "List Contents",
            "disabled": false,
            "icon": "",
            "layout": "IPY_MODEL_a63e83f7b5d441618ce86381bbe23b8c",
            "style": "IPY_MODEL_e1a6945351a549ffaa944c8aaf82ba2c",
            "tooltip": ""
          }
        },
        "a63e83f7b5d441618ce86381bbe23b8c": {
          "model_module": "@jupyter-widgets/base",
          "model_name": "LayoutModel",
          "model_module_version": "1.2.0",
          "state": {
            "_model_module": "@jupyter-widgets/base",
            "_model_module_version": "1.2.0",
            "_model_name": "LayoutModel",
            "_view_count": null,
            "_view_module": "@jupyter-widgets/base",
            "_view_module_version": "1.2.0",
            "_view_name": "LayoutView",
            "align_content": null,
            "align_items": null,
            "align_self": null,
            "border": null,
            "bottom": null,
            "display": null,
            "flex": null,
            "flex_flow": null,
            "grid_area": null,
            "grid_auto_columns": null,
            "grid_auto_flow": null,
            "grid_auto_rows": null,
            "grid_column": null,
            "grid_gap": null,
            "grid_row": null,
            "grid_template_areas": null,
            "grid_template_columns": null,
            "grid_template_rows": null,
            "height": null,
            "justify_content": null,
            "justify_items": null,
            "left": null,
            "margin": null,
            "max_height": null,
            "max_width": null,
            "min_height": null,
            "min_width": null,
            "object_fit": null,
            "object_position": null,
            "order": null,
            "overflow": null,
            "overflow_x": null,
            "overflow_y": null,
            "padding": null,
            "right": null,
            "top": null,
            "visibility": null,
            "width": null
          }
        },
        "e1a6945351a549ffaa944c8aaf82ba2c": {
          "model_module": "@jupyter-widgets/controls",
          "model_name": "ButtonStyleModel",
          "model_module_version": "1.5.0",
          "state": {
            "_model_module": "@jupyter-widgets/controls",
            "_model_module_version": "1.5.0",
            "_model_name": "ButtonStyleModel",
            "_view_count": null,
            "_view_module": "@jupyter-widgets/base",
            "_view_module_version": "1.2.0",
            "_view_name": "StyleView",
            "button_color": null,
            "font_weight": ""
          }
        },
        "6f1ec34b205f42cea7535aa9694272b5": {
          "model_module": "@jupyter-widgets/output",
          "model_name": "OutputModel",
          "model_module_version": "1.0.0",
          "state": {
            "_dom_classes": [],
            "_model_module": "@jupyter-widgets/output",
            "_model_module_version": "1.0.0",
            "_model_name": "OutputModel",
            "_view_count": null,
            "_view_module": "@jupyter-widgets/output",
            "_view_module_version": "1.0.0",
            "_view_name": "OutputView",
            "layout": "IPY_MODEL_deb21b723fc445738bbfc6caa083c897",
            "msg_id": "",
            "outputs": []
          }
        },
        "deb21b723fc445738bbfc6caa083c897": {
          "model_module": "@jupyter-widgets/base",
          "model_name": "LayoutModel",
          "model_module_version": "1.2.0",
          "state": {
            "_model_module": "@jupyter-widgets/base",
            "_model_module_version": "1.2.0",
            "_model_name": "LayoutModel",
            "_view_count": null,
            "_view_module": "@jupyter-widgets/base",
            "_view_module_version": "1.2.0",
            "_view_name": "LayoutView",
            "align_content": null,
            "align_items": null,
            "align_self": null,
            "border": null,
            "bottom": null,
            "display": null,
            "flex": null,
            "flex_flow": null,
            "grid_area": null,
            "grid_auto_columns": null,
            "grid_auto_flow": null,
            "grid_auto_rows": null,
            "grid_column": null,
            "grid_gap": null,
            "grid_row": null,
            "grid_template_areas": null,
            "grid_template_columns": null,
            "grid_template_rows": null,
            "height": null,
            "justify_content": null,
            "justify_items": null,
            "left": null,
            "margin": null,
            "max_height": null,
            "max_width": null,
            "min_height": null,
            "min_width": null,
            "object_fit": null,
            "object_position": null,
            "order": null,
            "overflow": null,
            "overflow_x": null,
            "overflow_y": null,
            "padding": null,
            "right": null,
            "top": null,
            "visibility": null,
            "width": null
          }
        },
        "cf3cd53d887d48d49bda0fe011ccdd2c": {
          "model_module": "@jupyter-widgets/controls",
          "model_name": "DropdownModel",
          "model_module_version": "1.5.0",
          "state": {
            "_dom_classes": [],
            "_model_module": "@jupyter-widgets/controls",
            "_model_module_version": "1.5.0",
            "_model_name": "DropdownModel",
            "_options_labels": [
              "text_editor",
              "calculator",
              "python"
            ],
            "_view_count": null,
            "_view_module": "@jupyter-widgets/controls",
            "_view_module_version": "1.5.0",
            "_view_name": "DropdownView",
            "description": "Applications:",
            "description_tooltip": null,
            "disabled": false,
            "index": 2,
            "layout": "IPY_MODEL_f7f770c4ec804c438a24eeef640c3524",
            "style": "IPY_MODEL_589438af62334fe483efc662d8080629"
          }
        },
        "f7f770c4ec804c438a24eeef640c3524": {
          "model_module": "@jupyter-widgets/base",
          "model_name": "LayoutModel",
          "model_module_version": "1.2.0",
          "state": {
            "_model_module": "@jupyter-widgets/base",
            "_model_module_version": "1.2.0",
            "_model_name": "LayoutModel",
            "_view_count": null,
            "_view_module": "@jupyter-widgets/base",
            "_view_module_version": "1.2.0",
            "_view_name": "LayoutView",
            "align_content": null,
            "align_items": null,
            "align_self": null,
            "border": null,
            "bottom": null,
            "display": null,
            "flex": null,
            "flex_flow": null,
            "grid_area": null,
            "grid_auto_columns": null,
            "grid_auto_flow": null,
            "grid_auto_rows": null,
            "grid_column": null,
            "grid_gap": null,
            "grid_row": null,
            "grid_template_areas": null,
            "grid_template_columns": null,
            "grid_template_rows": null,
            "height": null,
            "justify_content": null,
            "justify_items": null,
            "left": null,
            "margin": null,
            "max_height": null,
            "max_width": null,
            "min_height": null,
            "min_width": null,
            "object_fit": null,
            "object_position": null,
            "order": null,
            "overflow": null,
            "overflow_x": null,
            "overflow_y": null,
            "padding": null,
            "right": null,
            "top": null,
            "visibility": null,
            "width": null
          }
        },
        "589438af62334fe483efc662d8080629": {
          "model_module": "@jupyter-widgets/controls",
          "model_name": "DescriptionStyleModel",
          "model_module_version": "1.5.0",
          "state": {
            "_model_module": "@jupyter-widgets/controls",
            "_model_module_version": "1.5.0",
            "_model_name": "DescriptionStyleModel",
            "_view_count": null,
            "_view_module": "@jupyter-widgets/base",
            "_view_module_version": "1.2.0",
            "_view_name": "StyleView",
            "description_width": ""
          }
        },
        "9667279636a94d22b9a2d6143f70492d": {
          "model_module": "@jupyter-widgets/controls",
          "model_name": "ButtonModel",
          "model_module_version": "1.5.0",
          "state": {
            "_dom_classes": [],
            "_model_module": "@jupyter-widgets/controls",
            "_model_module_version": "1.5.0",
            "_model_name": "ButtonModel",
            "_view_count": null,
            "_view_module": "@jupyter-widgets/controls",
            "_view_module_version": "1.5.0",
            "_view_name": "ButtonView",
            "button_style": "",
            "description": "Run",
            "disabled": false,
            "icon": "",
            "layout": "IPY_MODEL_45c0a16a28b241f4a9a5679b4d5d4260",
            "style": "IPY_MODEL_aae61822219e47fd861a8a4043a1b9cd",
            "tooltip": ""
          }
        },
        "45c0a16a28b241f4a9a5679b4d5d4260": {
          "model_module": "@jupyter-widgets/base",
          "model_name": "LayoutModel",
          "model_module_version": "1.2.0",
          "state": {
            "_model_module": "@jupyter-widgets/base",
            "_model_module_version": "1.2.0",
            "_model_name": "LayoutModel",
            "_view_count": null,
            "_view_module": "@jupyter-widgets/base",
            "_view_module_version": "1.2.0",
            "_view_name": "LayoutView",
            "align_content": null,
            "align_items": null,
            "align_self": null,
            "border": null,
            "bottom": null,
            "display": null,
            "flex": null,
            "flex_flow": null,
            "grid_area": null,
            "grid_auto_columns": null,
            "grid_auto_flow": null,
            "grid_auto_rows": null,
            "grid_column": null,
            "grid_gap": null,
            "grid_row": null,
            "grid_template_areas": null,
            "grid_template_columns": null,
            "grid_template_rows": null,
            "height": null,
            "justify_content": null,
            "justify_items": null,
            "left": null,
            "margin": null,
            "max_height": null,
            "max_width": null,
            "min_height": null,
            "min_width": null,
            "object_fit": null,
            "object_position": null,
            "order": null,
            "overflow": null,
            "overflow_x": null,
            "overflow_y": null,
            "padding": null,
            "right": null,
            "top": null,
            "visibility": null,
            "width": null
          }
        },
        "aae61822219e47fd861a8a4043a1b9cd": {
          "model_module": "@jupyter-widgets/controls",
          "model_name": "ButtonStyleModel",
          "model_module_version": "1.5.0",
          "state": {
            "_model_module": "@jupyter-widgets/controls",
            "_model_module_version": "1.5.0",
            "_model_name": "ButtonStyleModel",
            "_view_count": null,
            "_view_module": "@jupyter-widgets/base",
            "_view_module_version": "1.2.0",
            "_view_name": "StyleView",
            "button_color": null,
            "font_weight": ""
          }
        }
      }
    }
  },
  "cells": [
    {
      "cell_type": "markdown",
      "metadata": {
        "id": "view-in-github",
        "colab_type": "text"
      },
      "source": [
        "<a href=\"https://colab.research.google.com/github/quinkly-rea-again/Demo-OS/blob/main/Demo_OS.ipynb\" target=\"_parent\"><img src=\"https://colab.research.google.com/assets/colab-badge.svg\" alt=\"Open In Colab\"/></a>"
      ]
    },
    {
      "cell_type": "markdown",
      "source": [
        "# Demo OS"
      ],
      "metadata": {
        "id": "lNjLMHkcVuzb"
      }
    },
    {
      "cell_type": "code",
      "execution_count": 1,
      "metadata": {
        "colab": {
          "base_uri": "https://localhost:8080/",
          "height": 145,
          "referenced_widgets": [
            "b91bb1738be2434181af6a1db5721f2d",
            "4d99efe176dd476592a006f0cae42325",
            "869acdb6ade14b9ebb09b97632096c56",
            "5f4fb16d311a49168d10ec9276492a34",
            "a63e83f7b5d441618ce86381bbe23b8c",
            "e1a6945351a549ffaa944c8aaf82ba2c",
            "6f1ec34b205f42cea7535aa9694272b5",
            "deb21b723fc445738bbfc6caa083c897",
            "cf3cd53d887d48d49bda0fe011ccdd2c",
            "f7f770c4ec804c438a24eeef640c3524",
            "589438af62334fe483efc662d8080629",
            "9667279636a94d22b9a2d6143f70492d",
            "45c0a16a28b241f4a9a5679b4d5d4260",
            "aae61822219e47fd861a8a4043a1b9cd"
          ]
        },
        "id": "L1plDIsf6U-4",
        "outputId": "6e32a1ca-9074-4748-9d83-80f2dcf5f6a5"
      },
      "outputs": [
        {
          "output_type": "display_data",
          "data": {
            "text/plain": [
              "Text(value='', description='Directory Path:')"
            ],
            "application/vnd.jupyter.widget-view+json": {
              "version_major": 2,
              "version_minor": 0,
              "model_id": "b91bb1738be2434181af6a1db5721f2d"
            }
          },
          "metadata": {}
        },
        {
          "output_type": "display_data",
          "data": {
            "text/plain": [
              "Button(description='List Contents', style=ButtonStyle())"
            ],
            "application/vnd.jupyter.widget-view+json": {
              "version_major": 2,
              "version_minor": 0,
              "model_id": "5f4fb16d311a49168d10ec9276492a34"
            }
          },
          "metadata": {}
        },
        {
          "output_type": "display_data",
          "data": {
            "text/plain": [
              "Output()"
            ],
            "application/vnd.jupyter.widget-view+json": {
              "version_major": 2,
              "version_minor": 0,
              "model_id": "6f1ec34b205f42cea7535aa9694272b5"
            }
          },
          "metadata": {}
        },
        {
          "output_type": "display_data",
          "data": {
            "text/plain": [
              "Dropdown(description='Applications:', options=('text_editor', 'calculator', 'python'), value='text_editor')"
            ],
            "application/vnd.jupyter.widget-view+json": {
              "version_major": 2,
              "version_minor": 0,
              "model_id": "cf3cd53d887d48d49bda0fe011ccdd2c"
            }
          },
          "metadata": {}
        },
        {
          "output_type": "display_data",
          "data": {
            "text/plain": [
              "Button(description='Run', style=ButtonStyle())"
            ],
            "application/vnd.jupyter.widget-view+json": {
              "version_major": 2,
              "version_minor": 0,
              "model_id": "9667279636a94d22b9a2d6143f70492d"
            }
          },
          "metadata": {}
        }
      ],
      "source": [
        "SliderLock = 9999.99 # @param {type:\"slider\", min:9999.99, max:99999.99, step:0.01}\n",
        "import ipywidgets as widgets\n",
        "from IPython.display import display\n",
        "import os\n",
        "\n",
        "file_system = {\n",
        "    '/': {\n",
        "        'home': {\n",
        "            'user': {}\n",
        "        },\n",
        "        'bin': {},\n",
        "        'etc': {}\n",
        "    }\n",
        "}\n",
        "\n",
        "applications = {\n",
        "    'text_editor': {\n",
        "        'executable': lambda: text_editor()\n",
        "    },\n",
        "    'calculator': {\n",
        "        'executable': lambda: calculator()\n",
        "    },\n",
        "    'python': {\n",
        "        'executable': lambda: python_interpreter()\n",
        "    }\n",
        "}\n",
        "\n",
        "def list_contents(directory_path):\n",
        "  try:\n",
        "    contents = os.listdir(directory_path)\n",
        "    with output:\n",
        "      print(\"Contents of:\", directory_path)\n",
        "      for item in contents:\n",
        "        full_path = os.path.join(directory_path, item)\n",
        "        if os.path.isdir(full_path):\n",
        "          print(f\"Directory: {item}\")\n",
        "        else:\n",
        "          print(f\"File: {item}\")\n",
        "  except FileNotFoundError:\n",
        "    with output:\n",
        "      print(\"Directory not found.\")\n",
        "\n",
        "def run_app(app_name):\n",
        "  if app_name in applications:\n",
        "    applications[app_name]['executable']()\n",
        "  else:\n",
        "    print(f\"Application '{app_name}' not found.\")\n",
        "\n",
        "def text_editor():\n",
        "  text_area = widgets.Textarea(description='Text Editor:')\n",
        "  display(text_area)\n",
        "\n",
        "def calculator():\n",
        "    num1 = widgets.FloatText(description='Number 1:')\n",
        "    num2 = widgets.FloatText(description='Number 2:')\n",
        "    operator = widgets.Dropdown(options=['+', '-', '*', '/'], description='Operator:')\n",
        "    calculate_button = widgets.Button(description='Calculate')\n",
        "    result = widgets.Label(value='')\n",
        "\n",
        "    def calculate(b):\n",
        "        try:\n",
        "            result.value = str(eval(f\"{num1.value} {operator.value} {num2.value}\"))\n",
        "        except ZeroDivisionError:\n",
        "            result.value = \"Division by zero error\"\n",
        "        except ValueError:\n",
        "            result.value = \"Invalid input\"\n",
        "\n",
        "    calculate_button.on_click(calculate)\n",
        "\n",
        "    display(num1, num2, operator, calculate_button, result)\n",
        "\n",
        "def python_interpreter():\n",
        "  code_input = widgets.Textarea(description='Python code:')\n",
        "  run_button = widgets.Button(description='Run')\n",
        "  output = widgets.Output()\n",
        "\n",
        "  def run_code(b):\n",
        "    try:\n",
        "      with output:\n",
        "        exec(code_input.value)\n",
        "    except Exception as e:\n",
        "      with output:\n",
        "        print(f\"Error: {e}\")\n",
        "\n",
        "  run_button.on_click(run_code)\n",
        "\n",
        "  display(code_input, run_button, output)\n",
        "\n",
        "text_box = widgets.Text(description='Directory Path:')\n",
        "button = widgets.Button(description='List Contents')\n",
        "output = widgets.Output()\n",
        "app_dropdown = widgets.Dropdown(options=list(applications.keys()), description='Applications:')\n",
        "run_button = widgets.Button(description='Run')\n",
        "\n",
        "def on_button_clicked(b):\n",
        "  directory_path = text_box.value if text_box.value else os.path.expanduser(\"~\")\n",
        "  list_contents(directory_path)\n",
        "\n",
        "def on_run_button_clicked(b):\n",
        "  app_name = app_dropdown.value\n",
        "  run_app(app_name)\n",
        "\n",
        "button.on_click(on_button_clicked)\n",
        "run_button.on_click(on_run_button_clicked)\n",
        "\n",
        "display(text_box, button, output, app_dropdown, run_button)\n"
      ]
    }
  ]
}