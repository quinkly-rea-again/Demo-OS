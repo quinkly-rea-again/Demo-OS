{
  "nbformat": 4,
  "nbformat_minor": 0,
  "metadata": {
    "colab": {
      "provenance": [],
      "authorship_tag": "ABX9TyMQKioZqDwZm+EF6fsTEQrN",
      "include_colab_link": true
    },
    "kernelspec": {
      "name": "python3",
      "display_name": "Python 3"
    },
    "language_info": {
      "name": "python"
    }
  },
  "cells": [
    {
      "cell_type": "markdown",
      "metadata": {
        "id": "view-in-github",
        "colab_type": "text"
      },
      "source": [
        "<a href=\"https://colab.research.google.com/github/quinkly-rea-again/Demo-OS/blob/main/DemoOS0.1.1.1.ipynb\" target=\"_parent\"><img src=\"https://colab.research.google.com/assets/colab-badge.svg\" alt=\"Open In Colab\"/></a>"
      ]
    },
    {
      "cell_type": "markdown",
      "source": [
        "# Demo OS"
      ],
      "metadata": {
        "id": "lNjLMHkcVuzb"
      }
    },
    {
      "cell_type": "code",
      "execution_count": null,
      "metadata": {
        "id": "L1plDIsf6U-4",
        "cellView": "form"
      },
      "outputs": [],
      "source": [
        "# @markdown SliderLock is deleted for reasons.\n",
        "Date = \"2024-08-01\" # @param {type:\"date\"}\n",
        "BacklightBrightness = 0 # @param {type:\"integer\"}\n",
        "import ipywidgets as widgets\n",
        "from IPython.display import display\n",
        "import os\n",
        "\n",
        "file_system = {\n",
        "    '/': {\n",
        "        'home': {\n",
        "            'user': {}\n",
        "        },\n",
        "        'bin': {},\n",
        "        'etc': {}\n",
        "    }\n",
        "}\n",
        "\n",
        "applications = {\n",
        "    'text_editor': {\n",
        "        'executable': lambda: text_editor()\n",
        "    },\n",
        "    'calculator': {\n",
        "        'executable': lambda: calculator()\n",
        "    },\n",
        "    'python': {\n",
        "        'executable': lambda: python_interpreter()\n",
        "    }\n",
        "}\n",
        "\n",
        "def list_contents(directory_path):\n",
        "  try:\n",
        "    contents = os.listdir(directory_path)\n",
        "    with output:\n",
        "      print(\"Contents of:\", directory_path)\n",
        "      for item in contents:\n",
        "        full_path = os.path.join(directory_path, item)\n",
        "        if os.path.isdir(full_path):\n",
        "          print(f\"Directory: {item}\")\n",
        "        else:\n",
        "          print(f\"File: {item}\")\n",
        "  except FileNotFoundError:\n",
        "    with output:\n",
        "      print(\"Directory not found.\")\n",
        "\n",
        "def run_app(app_name):\n",
        "  if app_name in applications:\n",
        "    applications[app_name]['executable']()\n",
        "  else:\n",
        "    print(f\"Application '{app_name}' not found.\")\n",
        "\n",
        "def text_editor():\n",
        "  text_area = widgets.Textarea(description='Text Editor:')\n",
        "  display(text_area)\n",
        "\n",
        "def calculator():\n",
        "    num1 = widgets.FloatText(description='Number 1:')\n",
        "    num2 = widgets.FloatText(description='Number 2:')\n",
        "    operator = widgets.Dropdown(options=['+', '-', '*', '/'], description='Operator:')\n",
        "    calculate_button = widgets.Button(description='Calculate')\n",
        "    result = widgets.Label(value='')\n",
        "\n",
        "    def calculate(b):\n",
        "        try:\n",
        "            result.value = str(eval(f\"{num1.value} {operator.value} {num2.value}\"))\n",
        "        except ZeroDivisionError:\n",
        "            result.value = \"Division by zero error\"\n",
        "        except ValueError:\n",
        "            result.value = \"Invalid input\"\n",
        "\n",
        "    calculate_button.on_click(calculate)\n",
        "\n",
        "    display(num1, num2, operator, calculate_button, result)\n",
        "\n",
        "def python_interpreter():\n",
        "  code_input = widgets.Textarea(description='Python code:')\n",
        "  run_button = widgets.Button(description='Run')\n",
        "  output = widgets.Output()\n",
        "\n",
        "  def run_code(b):\n",
        "    try:\n",
        "      with output:\n",
        "        exec(code_input.value)\n",
        "    except Exception as e:\n",
        "      with output:\n",
        "        print(f\"Error: {e}\")\n",
        "\n",
        "  run_button.on_click(run_code)\n",
        "\n",
        "  display(code_input, run_button, output)\n",
        "\n",
        "text_box = widgets.Text(description='Directory Path:')\n",
        "button = widgets.Button(description='List Contents')\n",
        "output = widgets.Output()\n",
        "app_dropdown = widgets.Dropdown(options=list(applications.keys()), description='Applications:')\n",
        "run_button = widgets.Button(description='Run')\n",
        "\n",
        "def on_button_clicked(b):\n",
        "  directory_path = text_box.value if text_box.value else os.path.expanduser(\"~\")\n",
        "  list_contents(directory_path)\n",
        "\n",
        "def on_run_button_clicked(b):\n",
        "  app_name = app_dropdown.value\n",
        "  run_app(app_name)\n",
        "\n",
        "button.on_click(on_button_clicked)\n",
        "run_button.on_click(on_run_button_clicked)\n",
        "\n",
        "display(text_box, button, output, app_dropdown, run_button)\n"
      ]
    }
  ]
}