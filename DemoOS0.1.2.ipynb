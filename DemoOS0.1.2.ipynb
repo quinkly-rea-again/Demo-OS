{
  "nbformat": 4,
  "nbformat_minor": 0,
  "metadata": {
    "colab": {
      "provenance": [],
      "authorship_tag": "ABX9TyMiLiIlqGWaHDtg4WgzQM1P",
      "include_colab_link": true
    },
    "kernelspec": {
      "name": "python3",
      "display_name": "Python 3"
    },
    "language_info": {
      "name": "python"
    },
    "widgets": {
      "application/vnd.jupyter.widget-state+json": {
        "7fef8679f2ad4947a6ebf1a2724ef5cd": {
          "model_module": "@jupyter-widgets/controls",
          "model_name": "TextModel",
          "model_module_version": "1.5.0",
          "state": {
            "_dom_classes": [],
            "_model_module": "@jupyter-widgets/controls",
            "_model_module_version": "1.5.0",
            "_model_name": "TextModel",
            "_view_count": null,
            "_view_module": "@jupyter-widgets/controls",
            "_view_module_version": "1.5.0",
            "_view_name": "TextView",
            "continuous_update": true,
            "description": "Directory Path:",
            "description_tooltip": null,
            "disabled": false,
            "layout": "IPY_MODEL_5c543a0602424a3eab9e2a2fb470df6b",
            "placeholder": "​",
            "style": "IPY_MODEL_dbd8e9eed13c4925a572af23570028bd",
            "value": ""
          }
        },
        "5c543a0602424a3eab9e2a2fb470df6b": {
          "model_module": "@jupyter-widgets/base",
          "model_name": "LayoutModel",
          "model_module_version": "1.2.0",
          "state": {
            "_model_module": "@jupyter-widgets/base",
            "_model_module_version": "1.2.0",
            "_model_name": "LayoutModel",
            "_view_count": null,
            "_view_module": "@jupyter-widgets/base",
            "_view_module_version": "1.2.0",
            "_view_name": "LayoutView",
            "align_content": null,
            "align_items": null,
            "align_self": null,
            "border": null,
            "bottom": null,
            "display": null,
            "flex": null,
            "flex_flow": null,
            "grid_area": null,
            "grid_auto_columns": null,
            "grid_auto_flow": null,
            "grid_auto_rows": null,
            "grid_column": null,
            "grid_gap": null,
            "grid_row": null,
            "grid_template_areas": null,
            "grid_template_columns": null,
            "grid_template_rows": null,
            "height": null,
            "justify_content": null,
            "justify_items": null,
            "left": null,
            "margin": null,
            "max_height": null,
            "max_width": null,
            "min_height": null,
            "min_width": null,
            "object_fit": null,
            "object_position": null,
            "order": null,
            "overflow": null,
            "overflow_x": null,
            "overflow_y": null,
            "padding": null,
            "right": null,
            "top": null,
            "visibility": null,
            "width": null
          }
        },
        "dbd8e9eed13c4925a572af23570028bd": {
          "model_module": "@jupyter-widgets/controls",
          "model_name": "DescriptionStyleModel",
          "model_module_version": "1.5.0",
          "state": {
            "_model_module": "@jupyter-widgets/controls",
            "_model_module_version": "1.5.0",
            "_model_name": "DescriptionStyleModel",
            "_view_count": null,
            "_view_module": "@jupyter-widgets/base",
            "_view_module_version": "1.2.0",
            "_view_name": "StyleView",
            "description_width": ""
          }
        },
        "3fd48e9993154d888c79b055d4a000b7": {
          "model_module": "@jupyter-widgets/controls",
          "model_name": "ButtonModel",
          "model_module_version": "1.5.0",
          "state": {
            "_dom_classes": [],
            "_model_module": "@jupyter-widgets/controls",
            "_model_module_version": "1.5.0",
            "_model_name": "ButtonModel",
            "_view_count": null,
            "_view_module": "@jupyter-widgets/controls",
            "_view_module_version": "1.5.0",
            "_view_name": "ButtonView",
            "button_style": "",
            "description": "List Contents of folder",
            "disabled": false,
            "icon": "",
            "layout": "IPY_MODEL_e848b2f90e3043dfbbeedc6167b8ee56",
            "style": "IPY_MODEL_daf388253ebb41ee848da5e46a9c206d",
            "tooltip": ""
          }
        },
        "e848b2f90e3043dfbbeedc6167b8ee56": {
          "model_module": "@jupyter-widgets/base",
          "model_name": "LayoutModel",
          "model_module_version": "1.2.0",
          "state": {
            "_model_module": "@jupyter-widgets/base",
            "_model_module_version": "1.2.0",
            "_model_name": "LayoutModel",
            "_view_count": null,
            "_view_module": "@jupyter-widgets/base",
            "_view_module_version": "1.2.0",
            "_view_name": "LayoutView",
            "align_content": null,
            "align_items": null,
            "align_self": null,
            "border": null,
            "bottom": null,
            "display": null,
            "flex": null,
            "flex_flow": null,
            "grid_area": null,
            "grid_auto_columns": null,
            "grid_auto_flow": null,
            "grid_auto_rows": null,
            "grid_column": null,
            "grid_gap": null,
            "grid_row": null,
            "grid_template_areas": null,
            "grid_template_columns": null,
            "grid_template_rows": null,
            "height": null,
            "justify_content": null,
            "justify_items": null,
            "left": null,
            "margin": null,
            "max_height": null,
            "max_width": null,
            "min_height": null,
            "min_width": null,
            "object_fit": null,
            "object_position": null,
            "order": null,
            "overflow": null,
            "overflow_x": null,
            "overflow_y": null,
            "padding": null,
            "right": null,
            "top": null,
            "visibility": null,
            "width": null
          }
        },
        "daf388253ebb41ee848da5e46a9c206d": {
          "model_module": "@jupyter-widgets/controls",
          "model_name": "ButtonStyleModel",
          "model_module_version": "1.5.0",
          "state": {
            "_model_module": "@jupyter-widgets/controls",
            "_model_module_version": "1.5.0",
            "_model_name": "ButtonStyleModel",
            "_view_count": null,
            "_view_module": "@jupyter-widgets/base",
            "_view_module_version": "1.2.0",
            "_view_name": "StyleView",
            "button_color": null,
            "font_weight": ""
          }
        },
        "640442fb360c4d7abddc1fffe849135c": {
          "model_module": "@jupyter-widgets/output",
          "model_name": "OutputModel",
          "model_module_version": "1.0.0",
          "state": {
            "_dom_classes": [],
            "_model_module": "@jupyter-widgets/output",
            "_model_module_version": "1.0.0",
            "_model_name": "OutputModel",
            "_view_count": null,
            "_view_module": "@jupyter-widgets/output",
            "_view_module_version": "1.0.0",
            "_view_name": "OutputView",
            "layout": "IPY_MODEL_fb0fb3833a884319bc77c3cd30fb124c",
            "msg_id": "",
            "outputs": [
              {
                "output_type": "stream",
                "name": "stdout",
                "text": [
                  "Contents of: /root\n",
                  "File: .bashrc\n",
                  "File: .profile\n",
                  "Directory: .local\n",
                  "Directory: .keras\n",
                  "Directory: .jupyter\n",
                  "File: .tmux.conf\n",
                  "Directory: .cache\n",
                  "Directory: .npm\n",
                  "File: .wget-hsts\n",
                  "Directory: .config\n",
                  "Directory: .ipython\n",
                  "Directory: .launchpadlib\n"
                ]
              }
            ]
          }
        },
        "fb0fb3833a884319bc77c3cd30fb124c": {
          "model_module": "@jupyter-widgets/base",
          "model_name": "LayoutModel",
          "model_module_version": "1.2.0",
          "state": {
            "_model_module": "@jupyter-widgets/base",
            "_model_module_version": "1.2.0",
            "_model_name": "LayoutModel",
            "_view_count": null,
            "_view_module": "@jupyter-widgets/base",
            "_view_module_version": "1.2.0",
            "_view_name": "LayoutView",
            "align_content": null,
            "align_items": null,
            "align_self": null,
            "border": null,
            "bottom": null,
            "display": null,
            "flex": null,
            "flex_flow": null,
            "grid_area": null,
            "grid_auto_columns": null,
            "grid_auto_flow": null,
            "grid_auto_rows": null,
            "grid_column": null,
            "grid_gap": null,
            "grid_row": null,
            "grid_template_areas": null,
            "grid_template_columns": null,
            "grid_template_rows": null,
            "height": null,
            "justify_content": null,
            "justify_items": null,
            "left": null,
            "margin": null,
            "max_height": null,
            "max_width": null,
            "min_height": null,
            "min_width": null,
            "object_fit": null,
            "object_position": null,
            "order": null,
            "overflow": null,
            "overflow_x": null,
            "overflow_y": null,
            "padding": null,
            "right": null,
            "top": null,
            "visibility": null,
            "width": null
          }
        },
        "6073ead3824c4f0098fd46c4079ce27d": {
          "model_module": "@jupyter-widgets/controls",
          "model_name": "DropdownModel",
          "model_module_version": "1.5.0",
          "state": {
            "_dom_classes": [],
            "_model_module": "@jupyter-widgets/controls",
            "_model_module_version": "1.5.0",
            "_model_name": "DropdownModel",
            "_options_labels": [
              "text_editor",
              "calculator",
              "python"
            ],
            "_view_count": null,
            "_view_module": "@jupyter-widgets/controls",
            "_view_module_version": "1.5.0",
            "_view_name": "DropdownView",
            "description": "Applications:",
            "description_tooltip": null,
            "disabled": false,
            "index": 0,
            "layout": "IPY_MODEL_9a4c2d99f8ad478bad910891e7792db1",
            "style": "IPY_MODEL_c2db2c2c2a2942508e23dd797dd15e3d"
          }
        },
        "9a4c2d99f8ad478bad910891e7792db1": {
          "model_module": "@jupyter-widgets/base",
          "model_name": "LayoutModel",
          "model_module_version": "1.2.0",
          "state": {
            "_model_module": "@jupyter-widgets/base",
            "_model_module_version": "1.2.0",
            "_model_name": "LayoutModel",
            "_view_count": null,
            "_view_module": "@jupyter-widgets/base",
            "_view_module_version": "1.2.0",
            "_view_name": "LayoutView",
            "align_content": null,
            "align_items": null,
            "align_self": null,
            "border": null,
            "bottom": null,
            "display": null,
            "flex": null,
            "flex_flow": null,
            "grid_area": null,
            "grid_auto_columns": null,
            "grid_auto_flow": null,
            "grid_auto_rows": null,
            "grid_column": null,
            "grid_gap": null,
            "grid_row": null,
            "grid_template_areas": null,
            "grid_template_columns": null,
            "grid_template_rows": null,
            "height": null,
            "justify_content": null,
            "justify_items": null,
            "left": null,
            "margin": null,
            "max_height": null,
            "max_width": null,
            "min_height": null,
            "min_width": null,
            "object_fit": null,
            "object_position": null,
            "order": null,
            "overflow": null,
            "overflow_x": null,
            "overflow_y": null,
            "padding": null,
            "right": null,
            "top": null,
            "visibility": null,
            "width": null
          }
        },
        "c2db2c2c2a2942508e23dd797dd15e3d": {
          "model_module": "@jupyter-widgets/controls",
          "model_name": "DescriptionStyleModel",
          "model_module_version": "1.5.0",
          "state": {
            "_model_module": "@jupyter-widgets/controls",
            "_model_module_version": "1.5.0",
            "_model_name": "DescriptionStyleModel",
            "_view_count": null,
            "_view_module": "@jupyter-widgets/base",
            "_view_module_version": "1.2.0",
            "_view_name": "StyleView",
            "description_width": ""
          }
        },
        "23c0e18504584b9aa944599e6b0dc078": {
          "model_module": "@jupyter-widgets/controls",
          "model_name": "ButtonModel",
          "model_module_version": "1.5.0",
          "state": {
            "_dom_classes": [],
            "_model_module": "@jupyter-widgets/controls",
            "_model_module_version": "1.5.0",
            "_model_name": "ButtonModel",
            "_view_count": null,
            "_view_module": "@jupyter-widgets/controls",
            "_view_module_version": "1.5.0",
            "_view_name": "ButtonView",
            "button_style": "",
            "description": "Run",
            "disabled": false,
            "icon": "",
            "layout": "IPY_MODEL_2a890bdeebec445b8d4de9b89d7f94af",
            "style": "IPY_MODEL_e17e944896924c5990d8c01c7705942e",
            "tooltip": ""
          }
        },
        "2a890bdeebec445b8d4de9b89d7f94af": {
          "model_module": "@jupyter-widgets/base",
          "model_name": "LayoutModel",
          "model_module_version": "1.2.0",
          "state": {
            "_model_module": "@jupyter-widgets/base",
            "_model_module_version": "1.2.0",
            "_model_name": "LayoutModel",
            "_view_count": null,
            "_view_module": "@jupyter-widgets/base",
            "_view_module_version": "1.2.0",
            "_view_name": "LayoutView",
            "align_content": null,
            "align_items": null,
            "align_self": null,
            "border": null,
            "bottom": null,
            "display": null,
            "flex": null,
            "flex_flow": null,
            "grid_area": null,
            "grid_auto_columns": null,
            "grid_auto_flow": null,
            "grid_auto_rows": null,
            "grid_column": null,
            "grid_gap": null,
            "grid_row": null,
            "grid_template_areas": null,
            "grid_template_columns": null,
            "grid_template_rows": null,
            "height": null,
            "justify_content": null,
            "justify_items": null,
            "left": null,
            "margin": null,
            "max_height": null,
            "max_width": null,
            "min_height": null,
            "min_width": null,
            "object_fit": null,
            "object_position": null,
            "order": null,
            "overflow": null,
            "overflow_x": null,
            "overflow_y": null,
            "padding": null,
            "right": null,
            "top": null,
            "visibility": null,
            "width": null
          }
        },
        "e17e944896924c5990d8c01c7705942e": {
          "model_module": "@jupyter-widgets/controls",
          "model_name": "ButtonStyleModel",
          "model_module_version": "1.5.0",
          "state": {
            "_model_module": "@jupyter-widgets/controls",
            "_model_module_version": "1.5.0",
            "_model_name": "ButtonStyleModel",
            "_view_count": null,
            "_view_module": "@jupyter-widgets/base",
            "_view_module_version": "1.2.0",
            "_view_name": "StyleView",
            "button_color": null,
            "font_weight": ""
          }
        }
      }
    }
  },
  "cells": [
    {
      "cell_type": "markdown",
      "metadata": {
        "id": "view-in-github",
        "colab_type": "text"
      },
      "source": [
        "<a href=\"https://colab.research.google.com/github/quinkly-rea-again/Demo-OS/blob/main/DemoOS0.1.1.2.ipynb\" target=\"_parent\"><img src=\"https://colab.research.google.com/assets/colab-badge.svg\" alt=\"Open In Colab\"/></a>"
      ]
    },
    {
      "cell_type": "markdown",
      "source": [
        "# Demo OS"
      ],
      "metadata": {
        "id": "lNjLMHkcVuzb"
      }
    },
    {
      "cell_type": "code",
      "execution_count": 1,
      "metadata": {
        "id": "L1plDIsf6U-4",
        "outputId": "25f2c343-8daa-4e45-f4ca-0486b4997b75",
        "colab": {
          "base_uri": "https://localhost:8080/",
          "height": 371,
          "referenced_widgets": [
            "7fef8679f2ad4947a6ebf1a2724ef5cd",
            "5c543a0602424a3eab9e2a2fb470df6b",
            "dbd8e9eed13c4925a572af23570028bd",
            "3fd48e9993154d888c79b055d4a000b7",
            "e848b2f90e3043dfbbeedc6167b8ee56",
            "daf388253ebb41ee848da5e46a9c206d",
            "640442fb360c4d7abddc1fffe849135c",
            "fb0fb3833a884319bc77c3cd30fb124c",
            "6073ead3824c4f0098fd46c4079ce27d",
            "9a4c2d99f8ad478bad910891e7792db1",
            "c2db2c2c2a2942508e23dd797dd15e3d",
            "23c0e18504584b9aa944599e6b0dc078",
            "2a890bdeebec445b8d4de9b89d7f94af",
            "e17e944896924c5990d8c01c7705942e"
          ]
        }
      },
      "outputs": [
        {
          "output_type": "display_data",
          "data": {
            "text/plain": [
              "Text(value='', description='Directory Path:')"
            ],
            "application/vnd.jupyter.widget-view+json": {
              "version_major": 2,
              "version_minor": 0,
              "model_id": "7fef8679f2ad4947a6ebf1a2724ef5cd"
            }
          },
          "metadata": {}
        },
        {
          "output_type": "display_data",
          "data": {
            "text/plain": [
              "Button(description='List Contents of folder', style=ButtonStyle())"
            ],
            "application/vnd.jupyter.widget-view+json": {
              "version_major": 2,
              "version_minor": 0,
              "model_id": "3fd48e9993154d888c79b055d4a000b7"
            }
          },
          "metadata": {}
        },
        {
          "output_type": "display_data",
          "data": {
            "text/plain": [
              "Output()"
            ],
            "application/vnd.jupyter.widget-view+json": {
              "version_major": 2,
              "version_minor": 0,
              "model_id": "640442fb360c4d7abddc1fffe849135c"
            }
          },
          "metadata": {}
        },
        {
          "output_type": "display_data",
          "data": {
            "text/plain": [
              "Dropdown(description='Applications:', options=('text_editor', 'calculator', 'python'), value='text_editor')"
            ],
            "application/vnd.jupyter.widget-view+json": {
              "version_major": 2,
              "version_minor": 0,
              "model_id": "6073ead3824c4f0098fd46c4079ce27d"
            }
          },
          "metadata": {}
        },
        {
          "output_type": "display_data",
          "data": {
            "text/plain": [
              "Button(description='Run', style=ButtonStyle())"
            ],
            "application/vnd.jupyter.widget-view+json": {
              "version_major": 2,
              "version_minor": 0,
              "model_id": "23c0e18504584b9aa944599e6b0dc078"
            }
          },
          "metadata": {}
        }
      ],
      "source": [
        "# @markdown SliderLock is deleted for reasons.\n",
        "Date = \"2024-08-01\" # @param {type:\"date\"}\n",
        "BacklightBrightness = 0 # @param {type:\"integer\"}\n",
        "NumLock = 1 # @param [\"1\",\"2\",\"3\",\"4\",\"5\",\"6\",\"7\",\"8\",\"9\",\"10\",\"11\",\"12\"] {\"type\":\"raw\"}\n",
        "import ipywidgets as widgets\n",
        "from IPython.display import display\n",
        "import os\n",
        "\n",
        "file_system = {\n",
        "    '/': {\n",
        "        'home': {\n",
        "            'user': {}\n",
        "        },\n",
        "        'bin': {},\n",
        "        'etc': {}\n",
        "    }\n",
        "}\n",
        "\n",
        "applications = {\n",
        "    'text_editor': {\n",
        "        'executable': lambda: text_editor()\n",
        "    },\n",
        "    'calculator': {\n",
        "        'executable': lambda: calculator()\n",
        "    },\n",
        "    'python': {\n",
        "        'executable': lambda: python_interpreter()\n",
        "    }\n",
        "}\n",
        "\n",
        "def list_contents(directory_path):\n",
        "  try:\n",
        "    contents = os.listdir(directory_path)\n",
        "    with output:\n",
        "      print(\"Contents of:\", directory_path)\n",
        "      for item in contents:\n",
        "        full_path = os.path.join(directory_path, item)\n",
        "        if os.path.isdir(full_path):\n",
        "          print(f\"Directory: {item}\")\n",
        "        else:\n",
        "          print(f\"File: {item}\")\n",
        "  except FileNotFoundError:\n",
        "    with output:\n",
        "      print(\"Directory not found.\")\n",
        "\n",
        "def run_app(app_name):\n",
        "  if app_name in applications:\n",
        "    applications[app_name]['executable']()\n",
        "  else:\n",
        "    print(f\"Application '{app_name}' not found.\")\n",
        "\n",
        "def text_editor():\n",
        "  text_area = widgets.Textarea(description='Text Editor:')\n",
        "  display(text_area)\n",
        "\n",
        "def calculator():\n",
        "    num1 = widgets.FloatText(description='Number 1:')\n",
        "    num2 = widgets.FloatText(description='Number 2:')\n",
        "    operator = widgets.Dropdown(options=['+', '-', '*', '/'], description='Operator:')\n",
        "    calculate_button = widgets.Button(description='Calculate')\n",
        "    result = widgets.Label(value='')\n",
        "\n",
        "    def calculate(b):\n",
        "        try:\n",
        "            result.value = str(eval(f\"{num1.value} {operator.value} {num2.value}\"))\n",
        "        except ZeroDivisionError:\n",
        "            result.value = \"Division by zero error\"\n",
        "        except ValueError:\n",
        "            result.value = \"Invalid input\"\n",
        "\n",
        "    calculate_button.on_click(calculate)\n",
        "\n",
        "    display(num1, num2, operator, calculate_button, result)\n",
        "\n",
        "def python_interpreter():\n",
        "  code_input = widgets.Textarea(description='Python code:')\n",
        "  run_button = widgets.Button(description='Run')\n",
        "  output = widgets.Output()\n",
        "\n",
        "  def run_code(b):\n",
        "    try:\n",
        "      with output:\n",
        "        exec(code_input.value)\n",
        "    except Exception as e:\n",
        "      with output:\n",
        "        print(f\"Error: {e}\")\n",
        "\n",
        "  run_button.on_click(run_code)\n",
        "\n",
        "  display(code_input, run_button, output)\n",
        "\n",
        "text_box = widgets.Text(description='Directory Path:')\n",
        "button = widgets.Button(description='List Contents of folder')\n",
        "output = widgets.Output()\n",
        "app_dropdown = widgets.Dropdown(options=list(applications.keys()), description='Applications:')\n",
        "run_button = widgets.Button(description='Run')\n",
        "\n",
        "def on_button_clicked(b):\n",
        "  directory_path = text_box.value if text_box.value else os.path.expanduser(\"~\")\n",
        "  list_contents(directory_path)\n",
        "\n",
        "def on_run_button_clicked(b):\n",
        "  app_name = app_dropdown.value\n",
        "  run_app(app_name)\n",
        "\n",
        "button.on_click(on_button_clicked)\n",
        "run_button.on_click(on_run_button_clicked)\n",
        "\n",
        "display(text_box, button, output, app_dropdown, run_button)\n"
      ]
    }
  ]
}
