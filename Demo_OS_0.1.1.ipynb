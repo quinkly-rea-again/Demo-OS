{
  "nbformat": 4,
  "nbformat_minor": 0,
  "metadata": {
    "colab": {
      "provenance": [],
      "authorship_tag": "ABX9TyNtqD3PEpgLGzZ4nSHi+8yd",
      "include_colab_link": true
    },
    "kernelspec": {
      "name": "python3",
      "display_name": "Python 3"
    },
    "language_info": {
      "name": "python"
    },
    "widgets": {
      "application/vnd.jupyter.widget-state+json": {
        "5c845c8f092a4d8599af93db0e1ecd08": {
          "model_module": "@jupyter-widgets/controls",
          "model_name": "TextModel",
          "model_module_version": "1.5.0",
          "state": {
            "_dom_classes": [],
            "_model_module": "@jupyter-widgets/controls",
            "_model_module_version": "1.5.0",
            "_model_name": "TextModel",
            "_view_count": null,
            "_view_module": "@jupyter-widgets/controls",
            "_view_module_version": "1.5.0",
            "_view_name": "TextView",
            "continuous_update": true,
            "description": "Directory Path:",
            "description_tooltip": null,
            "disabled": false,
            "layout": "IPY_MODEL_4ff2be2d564f473897979aa5786b2b6c",
            "placeholder": "​",
            "style": "IPY_MODEL_ec882ba63c6d455ca81e56539c026755",
            "value": ""
          }
        },
        "4ff2be2d564f473897979aa5786b2b6c": {
          "model_module": "@jupyter-widgets/base",
          "model_name": "LayoutModel",
          "model_module_version": "1.2.0",
          "state": {
            "_model_module": "@jupyter-widgets/base",
            "_model_module_version": "1.2.0",
            "_model_name": "LayoutModel",
            "_view_count": null,
            "_view_module": "@jupyter-widgets/base",
            "_view_module_version": "1.2.0",
            "_view_name": "LayoutView",
            "align_content": null,
            "align_items": null,
            "align_self": null,
            "border": null,
            "bottom": null,
            "display": null,
            "flex": null,
            "flex_flow": null,
            "grid_area": null,
            "grid_auto_columns": null,
            "grid_auto_flow": null,
            "grid_auto_rows": null,
            "grid_column": null,
            "grid_gap": null,
            "grid_row": null,
            "grid_template_areas": null,
            "grid_template_columns": null,
            "grid_template_rows": null,
            "height": null,
            "justify_content": null,
            "justify_items": null,
            "left": null,
            "margin": null,
            "max_height": null,
            "max_width": null,
            "min_height": null,
            "min_width": null,
            "object_fit": null,
            "object_position": null,
            "order": null,
            "overflow": null,
            "overflow_x": null,
            "overflow_y": null,
            "padding": null,
            "right": null,
            "top": null,
            "visibility": null,
            "width": null
          }
        },
        "ec882ba63c6d455ca81e56539c026755": {
          "model_module": "@jupyter-widgets/controls",
          "model_name": "DescriptionStyleModel",
          "model_module_version": "1.5.0",
          "state": {
            "_model_module": "@jupyter-widgets/controls",
            "_model_module_version": "1.5.0",
            "_model_name": "DescriptionStyleModel",
            "_view_count": null,
            "_view_module": "@jupyter-widgets/base",
            "_view_module_version": "1.2.0",
            "_view_name": "StyleView",
            "description_width": ""
          }
        },
        "62610882347c4dd980afe252a178800e": {
          "model_module": "@jupyter-widgets/controls",
          "model_name": "ButtonModel",
          "model_module_version": "1.5.0",
          "state": {
            "_dom_classes": [],
            "_model_module": "@jupyter-widgets/controls",
            "_model_module_version": "1.5.0",
            "_model_name": "ButtonModel",
            "_view_count": null,
            "_view_module": "@jupyter-widgets/controls",
            "_view_module_version": "1.5.0",
            "_view_name": "ButtonView",
            "button_style": "",
            "description": "List Contents",
            "disabled": false,
            "icon": "",
            "layout": "IPY_MODEL_383b0541d7294d78a4e0a10d92c64fbe",
            "style": "IPY_MODEL_34f1d00452214c8aa7c05d45135fd79f",
            "tooltip": ""
          }
        },
        "383b0541d7294d78a4e0a10d92c64fbe": {
          "model_module": "@jupyter-widgets/base",
          "model_name": "LayoutModel",
          "model_module_version": "1.2.0",
          "state": {
            "_model_module": "@jupyter-widgets/base",
            "_model_module_version": "1.2.0",
            "_model_name": "LayoutModel",
            "_view_count": null,
            "_view_module": "@jupyter-widgets/base",
            "_view_module_version": "1.2.0",
            "_view_name": "LayoutView",
            "align_content": null,
            "align_items": null,
            "align_self": null,
            "border": null,
            "bottom": null,
            "display": null,
            "flex": null,
            "flex_flow": null,
            "grid_area": null,
            "grid_auto_columns": null,
            "grid_auto_flow": null,
            "grid_auto_rows": null,
            "grid_column": null,
            "grid_gap": null,
            "grid_row": null,
            "grid_template_areas": null,
            "grid_template_columns": null,
            "grid_template_rows": null,
            "height": null,
            "justify_content": null,
            "justify_items": null,
            "left": null,
            "margin": null,
            "max_height": null,
            "max_width": null,
            "min_height": null,
            "min_width": null,
            "object_fit": null,
            "object_position": null,
            "order": null,
            "overflow": null,
            "overflow_x": null,
            "overflow_y": null,
            "padding": null,
            "right": null,
            "top": null,
            "visibility": null,
            "width": null
          }
        },
        "34f1d00452214c8aa7c05d45135fd79f": {
          "model_module": "@jupyter-widgets/controls",
          "model_name": "ButtonStyleModel",
          "model_module_version": "1.5.0",
          "state": {
            "_model_module": "@jupyter-widgets/controls",
            "_model_module_version": "1.5.0",
            "_model_name": "ButtonStyleModel",
            "_view_count": null,
            "_view_module": "@jupyter-widgets/base",
            "_view_module_version": "1.2.0",
            "_view_name": "StyleView",
            "button_color": null,
            "font_weight": ""
          }
        },
        "d2a7086d6ae44b1aa650d0308dcdabfd": {
          "model_module": "@jupyter-widgets/output",
          "model_name": "OutputModel",
          "model_module_version": "1.0.0",
          "state": {
            "_dom_classes": [],
            "_model_module": "@jupyter-widgets/output",
            "_model_module_version": "1.0.0",
            "_model_name": "OutputModel",
            "_view_count": null,
            "_view_module": "@jupyter-widgets/output",
            "_view_module_version": "1.0.0",
            "_view_name": "OutputView",
            "layout": "IPY_MODEL_2017aad380554df0953e64db9624c38b",
            "msg_id": "",
            "outputs": []
          }
        },
        "2017aad380554df0953e64db9624c38b": {
          "model_module": "@jupyter-widgets/base",
          "model_name": "LayoutModel",
          "model_module_version": "1.2.0",
          "state": {
            "_model_module": "@jupyter-widgets/base",
            "_model_module_version": "1.2.0",
            "_model_name": "LayoutModel",
            "_view_count": null,
            "_view_module": "@jupyter-widgets/base",
            "_view_module_version": "1.2.0",
            "_view_name": "LayoutView",
            "align_content": null,
            "align_items": null,
            "align_self": null,
            "border": null,
            "bottom": null,
            "display": null,
            "flex": null,
            "flex_flow": null,
            "grid_area": null,
            "grid_auto_columns": null,
            "grid_auto_flow": null,
            "grid_auto_rows": null,
            "grid_column": null,
            "grid_gap": null,
            "grid_row": null,
            "grid_template_areas": null,
            "grid_template_columns": null,
            "grid_template_rows": null,
            "height": null,
            "justify_content": null,
            "justify_items": null,
            "left": null,
            "margin": null,
            "max_height": null,
            "max_width": null,
            "min_height": null,
            "min_width": null,
            "object_fit": null,
            "object_position": null,
            "order": null,
            "overflow": null,
            "overflow_x": null,
            "overflow_y": null,
            "padding": null,
            "right": null,
            "top": null,
            "visibility": null,
            "width": null
          }
        },
        "0fe9926bc86b418baaf2a1c41ec895fc": {
          "model_module": "@jupyter-widgets/controls",
          "model_name": "DropdownModel",
          "model_module_version": "1.5.0",
          "state": {
            "_dom_classes": [],
            "_model_module": "@jupyter-widgets/controls",
            "_model_module_version": "1.5.0",
            "_model_name": "DropdownModel",
            "_options_labels": [
              "text_editor",
              "calculator",
              "python"
            ],
            "_view_count": null,
            "_view_module": "@jupyter-widgets/controls",
            "_view_module_version": "1.5.0",
            "_view_name": "DropdownView",
            "description": "Applications:",
            "description_tooltip": null,
            "disabled": false,
            "index": 0,
            "layout": "IPY_MODEL_d251f5ef82514316bded37fafef49afd",
            "style": "IPY_MODEL_09c61d732963466e9de67698a808df33"
          }
        },
        "d251f5ef82514316bded37fafef49afd": {
          "model_module": "@jupyter-widgets/base",
          "model_name": "LayoutModel",
          "model_module_version": "1.2.0",
          "state": {
            "_model_module": "@jupyter-widgets/base",
            "_model_module_version": "1.2.0",
            "_model_name": "LayoutModel",
            "_view_count": null,
            "_view_module": "@jupyter-widgets/base",
            "_view_module_version": "1.2.0",
            "_view_name": "LayoutView",
            "align_content": null,
            "align_items": null,
            "align_self": null,
            "border": null,
            "bottom": null,
            "display": null,
            "flex": null,
            "flex_flow": null,
            "grid_area": null,
            "grid_auto_columns": null,
            "grid_auto_flow": null,
            "grid_auto_rows": null,
            "grid_column": null,
            "grid_gap": null,
            "grid_row": null,
            "grid_template_areas": null,
            "grid_template_columns": null,
            "grid_template_rows": null,
            "height": null,
            "justify_content": null,
            "justify_items": null,
            "left": null,
            "margin": null,
            "max_height": null,
            "max_width": null,
            "min_height": null,
            "min_width": null,
            "object_fit": null,
            "object_position": null,
            "order": null,
            "overflow": null,
            "overflow_x": null,
            "overflow_y": null,
            "padding": null,
            "right": null,
            "top": null,
            "visibility": null,
            "width": null
          }
        },
        "09c61d732963466e9de67698a808df33": {
          "model_module": "@jupyter-widgets/controls",
          "model_name": "DescriptionStyleModel",
          "model_module_version": "1.5.0",
          "state": {
            "_model_module": "@jupyter-widgets/controls",
            "_model_module_version": "1.5.0",
            "_model_name": "DescriptionStyleModel",
            "_view_count": null,
            "_view_module": "@jupyter-widgets/base",
            "_view_module_version": "1.2.0",
            "_view_name": "StyleView",
            "description_width": ""
          }
        },
        "63565d39850c42499773dca590b0529d": {
          "model_module": "@jupyter-widgets/controls",
          "model_name": "ButtonModel",
          "model_module_version": "1.5.0",
          "state": {
            "_dom_classes": [],
            "_model_module": "@jupyter-widgets/controls",
            "_model_module_version": "1.5.0",
            "_model_name": "ButtonModel",
            "_view_count": null,
            "_view_module": "@jupyter-widgets/controls",
            "_view_module_version": "1.5.0",
            "_view_name": "ButtonView",
            "button_style": "",
            "description": "Run",
            "disabled": false,
            "icon": "",
            "layout": "IPY_MODEL_75c9c53a8b21434b8c7c53f337634d8b",
            "style": "IPY_MODEL_3c3bb5360a934ec2a44de764f78186e2",
            "tooltip": ""
          }
        },
        "75c9c53a8b21434b8c7c53f337634d8b": {
          "model_module": "@jupyter-widgets/base",
          "model_name": "LayoutModel",
          "model_module_version": "1.2.0",
          "state": {
            "_model_module": "@jupyter-widgets/base",
            "_model_module_version": "1.2.0",
            "_model_name": "LayoutModel",
            "_view_count": null,
            "_view_module": "@jupyter-widgets/base",
            "_view_module_version": "1.2.0",
            "_view_name": "LayoutView",
            "align_content": null,
            "align_items": null,
            "align_self": null,
            "border": null,
            "bottom": null,
            "display": null,
            "flex": null,
            "flex_flow": null,
            "grid_area": null,
            "grid_auto_columns": null,
            "grid_auto_flow": null,
            "grid_auto_rows": null,
            "grid_column": null,
            "grid_gap": null,
            "grid_row": null,
            "grid_template_areas": null,
            "grid_template_columns": null,
            "grid_template_rows": null,
            "height": null,
            "justify_content": null,
            "justify_items": null,
            "left": null,
            "margin": null,
            "max_height": null,
            "max_width": null,
            "min_height": null,
            "min_width": null,
            "object_fit": null,
            "object_position": null,
            "order": null,
            "overflow": null,
            "overflow_x": null,
            "overflow_y": null,
            "padding": null,
            "right": null,
            "top": null,
            "visibility": null,
            "width": null
          }
        },
        "3c3bb5360a934ec2a44de764f78186e2": {
          "model_module": "@jupyter-widgets/controls",
          "model_name": "ButtonStyleModel",
          "model_module_version": "1.5.0",
          "state": {
            "_model_module": "@jupyter-widgets/controls",
            "_model_module_version": "1.5.0",
            "_model_name": "ButtonStyleModel",
            "_view_count": null,
            "_view_module": "@jupyter-widgets/base",
            "_view_module_version": "1.2.0",
            "_view_name": "StyleView",
            "button_color": null,
            "font_weight": ""
          }
        }
      }
    }
  },
  "cells": [
    {
      "cell_type": "markdown",
      "metadata": {
        "id": "view-in-github",
        "colab_type": "text"
      },
      "source": [
        "<a href=\"https://colab.research.google.com/github/quinkly-rea-again/Demo-OS/blob/main/Demo_OS_0.1.1.ipynb\" target=\"_parent\"><img src=\"https://colab.research.google.com/assets/colab-badge.svg\" alt=\"Open In Colab\"/></a>"
      ]
    },
    {
      "cell_type": "markdown",
      "source": [
        "# Demo OS"
      ],
      "metadata": {
        "id": "lNjLMHkcVuzb"
      }
    },
    {
      "cell_type": "code",
      "execution_count": 4,
      "metadata": {
        "colab": {
          "base_uri": "https://localhost:8080/",
          "height": 145,
          "referenced_widgets": [
            "5c845c8f092a4d8599af93db0e1ecd08",
            "4ff2be2d564f473897979aa5786b2b6c",
            "ec882ba63c6d455ca81e56539c026755",
            "62610882347c4dd980afe252a178800e",
            "383b0541d7294d78a4e0a10d92c64fbe",
            "34f1d00452214c8aa7c05d45135fd79f",
            "d2a7086d6ae44b1aa650d0308dcdabfd",
            "2017aad380554df0953e64db9624c38b",
            "0fe9926bc86b418baaf2a1c41ec895fc",
            "d251f5ef82514316bded37fafef49afd",
            "09c61d732963466e9de67698a808df33",
            "63565d39850c42499773dca590b0529d",
            "75c9c53a8b21434b8c7c53f337634d8b",
            "3c3bb5360a934ec2a44de764f78186e2"
          ]
        },
        "id": "L1plDIsf6U-4",
        "outputId": "7baf1eaa-ef30-40ea-97fd-edb26f027311"
      },
      "outputs": [
        {
          "output_type": "display_data",
          "data": {
            "text/plain": [
              "Text(value='', description='Directory Path:')"
            ],
            "application/vnd.jupyter.widget-view+json": {
              "version_major": 2,
              "version_minor": 0,
              "model_id": "5c845c8f092a4d8599af93db0e1ecd08"
            }
          },
          "metadata": {}
        },
        {
          "output_type": "display_data",
          "data": {
            "text/plain": [
              "Button(description='List Contents', style=ButtonStyle())"
            ],
            "application/vnd.jupyter.widget-view+json": {
              "version_major": 2,
              "version_minor": 0,
              "model_id": "62610882347c4dd980afe252a178800e"
            }
          },
          "metadata": {}
        },
        {
          "output_type": "display_data",
          "data": {
            "text/plain": [
              "Output()"
            ],
            "application/vnd.jupyter.widget-view+json": {
              "version_major": 2,
              "version_minor": 0,
              "model_id": "d2a7086d6ae44b1aa650d0308dcdabfd"
            }
          },
          "metadata": {}
        },
        {
          "output_type": "display_data",
          "data": {
            "text/plain": [
              "Dropdown(description='Applications:', options=('text_editor', 'calculator', 'python'), value='text_editor')"
            ],
            "application/vnd.jupyter.widget-view+json": {
              "version_major": 2,
              "version_minor": 0,
              "model_id": "0fe9926bc86b418baaf2a1c41ec895fc"
            }
          },
          "metadata": {}
        },
        {
          "output_type": "display_data",
          "data": {
            "text/plain": [
              "Button(description='Run', style=ButtonStyle())"
            ],
            "application/vnd.jupyter.widget-view+json": {
              "version_major": 2,
              "version_minor": 0,
              "model_id": "63565d39850c42499773dca590b0529d"
            }
          },
          "metadata": {}
        }
      ],
      "source": [
        "# @markdown SliderLock is deleted for reasons.\n",
        "Date = \"2024-04-20\" # @param {type:\"date\"}\n",
        "BacklightBrightness = 0 # @param {type:\"integer\"}\n",
        "import ipywidgets as widgets\n",
        "from IPython.display import display\n",
        "import os\n",
        "\n",
        "file_system = {\n",
        "    '/': {\n",
        "        'home': {\n",
        "            'user': {}\n",
        "        },\n",
        "        'bin': {},\n",
        "        'etc': {}\n",
        "    }\n",
        "}\n",
        "\n",
        "applications = {\n",
        "    'text_editor': {\n",
        "        'executable': lambda: text_editor()\n",
        "    },\n",
        "    'calculator': {\n",
        "        'executable': lambda: calculator()\n",
        "    },\n",
        "    'python': {\n",
        "        'executable': lambda: python_interpreter()\n",
        "    }\n",
        "}\n",
        "\n",
        "def list_contents(directory_path):\n",
        "  try:\n",
        "    contents = os.listdir(directory_path)\n",
        "    with output:\n",
        "      print(\"Contents of:\", directory_path)\n",
        "      for item in contents:\n",
        "        full_path = os.path.join(directory_path, item)\n",
        "        if os.path.isdir(full_path):\n",
        "          print(f\"Directory: {item}\")\n",
        "        else:\n",
        "          print(f\"File: {item}\")\n",
        "  except FileNotFoundError:\n",
        "    with output:\n",
        "      print(\"Directory not found.\")\n",
        "\n",
        "def run_app(app_name):\n",
        "  if app_name in applications:\n",
        "    applications[app_name]['executable']()\n",
        "  else:\n",
        "    print(f\"Application '{app_name}' not found.\")\n",
        "\n",
        "def text_editor():\n",
        "  text_area = widgets.Textarea(description='Text Editor:')\n",
        "  display(text_area)\n",
        "\n",
        "def calculator():\n",
        "    num1 = widgets.FloatText(description='Number 1:')\n",
        "    num2 = widgets.FloatText(description='Number 2:')\n",
        "    operator = widgets.Dropdown(options=['+', '-', '*', '/'], description='Operator:')\n",
        "    calculate_button = widgets.Button(description='Calculate')\n",
        "    result = widgets.Label(value='')\n",
        "\n",
        "    def calculate(b):\n",
        "        try:\n",
        "            result.value = str(eval(f\"{num1.value} {operator.value} {num2.value}\"))\n",
        "        except ZeroDivisionError:\n",
        "            result.value = \"Division by zero error\"\n",
        "        except ValueError:\n",
        "            result.value = \"Invalid input\"\n",
        "\n",
        "    calculate_button.on_click(calculate)\n",
        "\n",
        "    display(num1, num2, operator, calculate_button, result)\n",
        "\n",
        "def python_interpreter():\n",
        "  code_input = widgets.Textarea(description='Python code:')\n",
        "  run_button = widgets.Button(description='Run')\n",
        "  output = widgets.Output()\n",
        "\n",
        "  def run_code(b):\n",
        "    try:\n",
        "      with output:\n",
        "        exec(code_input.value)\n",
        "    except Exception as e:\n",
        "      with output:\n",
        "        print(f\"Error: {e}\")\n",
        "\n",
        "  run_button.on_click(run_code)\n",
        "\n",
        "  display(code_input, run_button, output)\n",
        "\n",
        "text_box = widgets.Text(description='Directory Path:')\n",
        "button = widgets.Button(description='List Contents')\n",
        "output = widgets.Output()\n",
        "app_dropdown = widgets.Dropdown(options=list(applications.keys()), description='Applications:')\n",
        "run_button = widgets.Button(description='Run')\n",
        "\n",
        "def on_button_clicked(b):\n",
        "  directory_path = text_box.value if text_box.value else os.path.expanduser(\"~\")\n",
        "  list_contents(directory_path)\n",
        "\n",
        "def on_run_button_clicked(b):\n",
        "  app_name = app_dropdown.value\n",
        "  run_app(app_name)\n",
        "\n",
        "button.on_click(on_button_clicked)\n",
        "run_button.on_click(on_run_button_clicked)\n",
        "\n",
        "display(text_box, button, output, app_dropdown, run_button)\n"
      ]
    }
  ]
}